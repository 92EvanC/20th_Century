{
 "cells": [
  {
   "cell_type": "code",
   "execution_count": 2,
   "id": "406c3218-9fe9-4e38-8a18-8f36ae66807f",
   "metadata": {},
   "outputs": [],
   "source": [
    "import re"
   ]
  },
  {
   "cell_type": "code",
   "execution_count": 3,
   "id": "6a7eab07-325c-4593-9e55-042418ff60a7",
   "metadata": {},
   "outputs": [],
   "source": [
    "# Read in the scraped text file\n",
    "with open(\"key_events_20th_century.txt\", \"r\", encoding=\"utf-8\", errors=\"replace\") as f:\n",
    "    text = f.read()"
   ]
  },
  {
   "cell_type": "code",
   "execution_count": 4,
   "id": "918612ab-483e-4f89-919b-c5d1333bae2e",
   "metadata": {},
   "outputs": [],
   "source": [
    "# Normalize text encoding issues\n",
    "text = text.encode(\"utf-8\", \"ignore\").decode(\"utf-8\") \n",
    "# Remove any unrecognized characters"
   ]
  },
  {
   "cell_type": "code",
   "execution_count": 5,
   "id": "a6881349-d7d7-452d-8b7c-ad44a15e86f2",
   "metadata": {},
   "outputs": [],
   "source": [
    "# Remove multiple newlines and extra spaces\n",
    "cleaned_text = re.sub(r\"\\n+\", \"\\n\", text)  # Collapse multiple newlines\n",
    "cleaned_text = re.sub(r\"[^\\w\\s.,!?-]\", \"\", cleaned_text)  # Remove unwanted symbols except common punctuation\n"
   ]
  },
  {
   "cell_type": "code",
   "execution_count": 6,
   "id": "15359e1f-8f05-4751-a69d-f814bee481b1",
   "metadata": {},
   "outputs": [],
   "source": [
    "# Remove HTML tags\n",
    "text = re.sub(r\"<[^>]+>\", \"\", text)  # Removes anything between < >\n",
    "\n",
    "# Remove URLs\n",
    "text = re.sub(r\"http\\S+|www\\S+\", \"\", text)  # Removes any links\n",
    "\n",
    "# Remove standalone numbers (like page numbers or random digits)\n",
    "cleaned_text = re.sub(r\"\\b\\d+\\b\", \"\", cleaned_text)\n",
    "\n",
    "# Deduplicate sentences\n",
    "lines = cleaned_text.split(\". \")  # Splitting on sentence breaks\n",
    "unique_lines = list(dict.fromkeys(lines))  # Remove duplicates while preserving order\n",
    "cleaned_text = \". \".join(unique_lines)"
   ]
  },
  {
   "cell_type": "code",
   "execution_count": 7,
   "id": "fe7d3cfa-5533-45dc-b503-135e6d6f616a",
   "metadata": {},
   "outputs": [],
   "source": [
    "# Remove non-relevant sections\n",
    "unwanted_sections = [\"Main page\", \"Log in\", \"Talk\", \"Help\", \"Upload file\"]\n",
    "for section in unwanted_sections:\n",
    "    cleaned_text = cleaned_text.replace(section, \"\")"
   ]
  },
  {
   "cell_type": "code",
   "execution_count": 8,
   "id": "83d2593b-299f-469e-89e4-870eb6591fdd",
   "metadata": {},
   "outputs": [],
   "source": [
    "# Remove duplicate lines\n",
    "lines = cleaned_text.split(\"\\n\")\n",
    "unique_lines = list(dict.fromkeys(lines))\n",
    "cleaned_text = \"\\n\".join(unique_lines)"
   ]
  },
  {
   "cell_type": "code",
   "execution_count": 9,
   "id": "8cde5bab-54a5-4f69-a819-e2fee5eb0eae",
   "metadata": {},
   "outputs": [],
   "source": [
    "# Save the cleaned text\n",
    "with open(\"cleaned_text.txt\", \"w\", encoding=\"utf-8\") as f:\n",
    "    f.write(cleaned_text)"
   ]
  },
  {
   "cell_type": "code",
   "execution_count": 10,
   "id": "dea8fe18-f518-423d-a410-9db03dd25b3b",
   "metadata": {},
   "outputs": [
    {
     "name": "stdout",
     "output_type": "stream",
     "text": [
      "Text cleaned and saved successfully!\n"
     ]
    }
   ],
   "source": [
    "print(\"Text cleaned and saved successfully!\")"
   ]
  },
  {
   "cell_type": "code",
   "execution_count": null,
   "id": "203041c3-28db-4bf7-8506-163c33bef80f",
   "metadata": {},
   "outputs": [],
   "source": []
  }
 ],
 "metadata": {
  "kernelspec": {
   "display_name": "Python [conda env:base] *",
   "language": "python",
   "name": "conda-base-py"
  },
  "language_info": {
   "codemirror_mode": {
    "name": "ipython",
    "version": 3
   },
   "file_extension": ".py",
   "mimetype": "text/x-python",
   "name": "python",
   "nbconvert_exporter": "python",
   "pygments_lexer": "ipython3",
   "version": "3.12.2"
  }
 },
 "nbformat": 4,
 "nbformat_minor": 5
}
